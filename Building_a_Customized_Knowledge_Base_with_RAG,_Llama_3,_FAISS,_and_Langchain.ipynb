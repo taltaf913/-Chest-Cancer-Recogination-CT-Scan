{
  "nbformat": 4,
  "nbformat_minor": 0,
  "metadata": {
    "colab": {
      "provenance": [],
      "include_colab_link": true
    },
    "kernelspec": {
      "name": "python3",
      "display_name": "Python 3"
    },
    "language_info": {
      "name": "python"
    }
  },
  "cells": [
    {
      "cell_type": "markdown",
      "metadata": {
        "id": "view-in-github",
        "colab_type": "text"
      },
      "source": [
        "<a href=\"https://colab.research.google.com/github/taltaf913/-Chest-Cancer-Recogination-CT-Scan/blob/main/Building_a_Customized_Knowledge_Base_with_RAG%2C_Llama_3%2C_FAISS%2C_and_Langchain.ipynb\" target=\"_parent\"><img src=\"https://colab.research.google.com/assets/colab-badge.svg\" alt=\"Open In Colab\"/></a>"
      ]
    },
    {
      "cell_type": "code",
      "execution_count": 10,
      "metadata": {
        "id": "6_KIb-Dy1dEJ",
        "outputId": "057725f4-c5d6-4633-b4fc-537682a28460",
        "colab": {
          "base_uri": "https://localhost:8080/"
        }
      },
      "outputs": [
        {
          "output_type": "stream",
          "name": "stdout",
          "text": [
            "Requirement already satisfied: langchain in /usr/local/lib/python3.10/dist-packages (0.3.1)\n",
            "Requirement already satisfied: langchain-openai in /usr/local/lib/python3.10/dist-packages (0.2.1)\n",
            "Requirement already satisfied: faiss-cpu in /usr/local/lib/python3.10/dist-packages (1.8.0.post1)\n",
            "Requirement already satisfied: PyYAML>=5.3 in /usr/local/lib/python3.10/dist-packages (from langchain) (6.0.2)\n",
            "Requirement already satisfied: SQLAlchemy<3,>=1.4 in /usr/local/lib/python3.10/dist-packages (from langchain) (2.0.35)\n",
            "Requirement already satisfied: aiohttp<4.0.0,>=3.8.3 in /usr/local/lib/python3.10/dist-packages (from langchain) (3.10.5)\n",
            "Requirement already satisfied: async-timeout<5.0.0,>=4.0.0 in /usr/local/lib/python3.10/dist-packages (from langchain) (4.0.3)\n",
            "Requirement already satisfied: langchain-core<0.4.0,>=0.3.6 in /usr/local/lib/python3.10/dist-packages (from langchain) (0.3.6)\n",
            "Requirement already satisfied: langchain-text-splitters<0.4.0,>=0.3.0 in /usr/local/lib/python3.10/dist-packages (from langchain) (0.3.0)\n",
            "Requirement already satisfied: langsmith<0.2.0,>=0.1.17 in /usr/local/lib/python3.10/dist-packages (from langchain) (0.1.129)\n",
            "Requirement already satisfied: numpy<2,>=1 in /usr/local/lib/python3.10/dist-packages (from langchain) (1.26.4)\n",
            "Requirement already satisfied: pydantic<3.0.0,>=2.7.4 in /usr/local/lib/python3.10/dist-packages (from langchain) (2.9.2)\n",
            "Requirement already satisfied: requests<3,>=2 in /usr/local/lib/python3.10/dist-packages (from langchain) (2.32.3)\n",
            "Requirement already satisfied: tenacity!=8.4.0,<9.0.0,>=8.1.0 in /usr/local/lib/python3.10/dist-packages (from langchain) (8.5.0)\n",
            "Requirement already satisfied: openai<2.0.0,>=1.40.0 in /usr/local/lib/python3.10/dist-packages (from langchain-openai) (1.50.2)\n",
            "Requirement already satisfied: tiktoken<1,>=0.7 in /usr/local/lib/python3.10/dist-packages (from langchain-openai) (0.7.0)\n",
            "Requirement already satisfied: packaging in /usr/local/lib/python3.10/dist-packages (from faiss-cpu) (24.1)\n",
            "Requirement already satisfied: aiohappyeyeballs>=2.3.0 in /usr/local/lib/python3.10/dist-packages (from aiohttp<4.0.0,>=3.8.3->langchain) (2.4.0)\n",
            "Requirement already satisfied: aiosignal>=1.1.2 in /usr/local/lib/python3.10/dist-packages (from aiohttp<4.0.0,>=3.8.3->langchain) (1.3.1)\n",
            "Requirement already satisfied: attrs>=17.3.0 in /usr/local/lib/python3.10/dist-packages (from aiohttp<4.0.0,>=3.8.3->langchain) (24.2.0)\n",
            "Requirement already satisfied: frozenlist>=1.1.1 in /usr/local/lib/python3.10/dist-packages (from aiohttp<4.0.0,>=3.8.3->langchain) (1.4.1)\n",
            "Requirement already satisfied: multidict<7.0,>=4.5 in /usr/local/lib/python3.10/dist-packages (from aiohttp<4.0.0,>=3.8.3->langchain) (6.1.0)\n",
            "Requirement already satisfied: yarl<2.0,>=1.0 in /usr/local/lib/python3.10/dist-packages (from aiohttp<4.0.0,>=3.8.3->langchain) (1.11.1)\n",
            "Requirement already satisfied: jsonpatch<2.0,>=1.33 in /usr/local/lib/python3.10/dist-packages (from langchain-core<0.4.0,>=0.3.6->langchain) (1.33)\n",
            "Requirement already satisfied: typing-extensions>=4.7 in /usr/local/lib/python3.10/dist-packages (from langchain-core<0.4.0,>=0.3.6->langchain) (4.12.2)\n",
            "Requirement already satisfied: httpx<1,>=0.23.0 in /usr/local/lib/python3.10/dist-packages (from langsmith<0.2.0,>=0.1.17->langchain) (0.27.2)\n",
            "Requirement already satisfied: orjson<4.0.0,>=3.9.14 in /usr/local/lib/python3.10/dist-packages (from langsmith<0.2.0,>=0.1.17->langchain) (3.10.7)\n",
            "Requirement already satisfied: anyio<5,>=3.5.0 in /usr/local/lib/python3.10/dist-packages (from openai<2.0.0,>=1.40.0->langchain-openai) (3.7.1)\n",
            "Requirement already satisfied: distro<2,>=1.7.0 in /usr/lib/python3/dist-packages (from openai<2.0.0,>=1.40.0->langchain-openai) (1.7.0)\n",
            "Requirement already satisfied: jiter<1,>=0.4.0 in /usr/local/lib/python3.10/dist-packages (from openai<2.0.0,>=1.40.0->langchain-openai) (0.5.0)\n",
            "Requirement already satisfied: sniffio in /usr/local/lib/python3.10/dist-packages (from openai<2.0.0,>=1.40.0->langchain-openai) (1.3.1)\n",
            "Requirement already satisfied: tqdm>4 in /usr/local/lib/python3.10/dist-packages (from openai<2.0.0,>=1.40.0->langchain-openai) (4.66.5)\n",
            "Requirement already satisfied: annotated-types>=0.6.0 in /usr/local/lib/python3.10/dist-packages (from pydantic<3.0.0,>=2.7.4->langchain) (0.7.0)\n",
            "Requirement already satisfied: pydantic-core==2.23.4 in /usr/local/lib/python3.10/dist-packages (from pydantic<3.0.0,>=2.7.4->langchain) (2.23.4)\n",
            "Requirement already satisfied: charset-normalizer<4,>=2 in /usr/local/lib/python3.10/dist-packages (from requests<3,>=2->langchain) (3.3.2)\n",
            "Requirement already satisfied: idna<4,>=2.5 in /usr/local/lib/python3.10/dist-packages (from requests<3,>=2->langchain) (3.10)\n",
            "Requirement already satisfied: urllib3<3,>=1.21.1 in /usr/local/lib/python3.10/dist-packages (from requests<3,>=2->langchain) (2.2.3)\n",
            "Requirement already satisfied: certifi>=2017.4.17 in /usr/local/lib/python3.10/dist-packages (from requests<3,>=2->langchain) (2024.8.30)\n",
            "Requirement already satisfied: greenlet!=0.4.17 in /usr/local/lib/python3.10/dist-packages (from SQLAlchemy<3,>=1.4->langchain) (3.1.1)\n",
            "Requirement already satisfied: regex>=2022.1.18 in /usr/local/lib/python3.10/dist-packages (from tiktoken<1,>=0.7->langchain-openai) (2024.9.11)\n",
            "Requirement already satisfied: exceptiongroup in /usr/local/lib/python3.10/dist-packages (from anyio<5,>=3.5.0->openai<2.0.0,>=1.40.0->langchain-openai) (1.2.2)\n",
            "Requirement already satisfied: httpcore==1.* in /usr/local/lib/python3.10/dist-packages (from httpx<1,>=0.23.0->langsmith<0.2.0,>=0.1.17->langchain) (1.0.5)\n",
            "Requirement already satisfied: h11<0.15,>=0.13 in /usr/local/lib/python3.10/dist-packages (from httpcore==1.*->httpx<1,>=0.23.0->langsmith<0.2.0,>=0.1.17->langchain) (0.14.0)\n",
            "Requirement already satisfied: jsonpointer>=1.9 in /usr/local/lib/python3.10/dist-packages (from jsonpatch<2.0,>=1.33->langchain-core<0.4.0,>=0.3.6->langchain) (3.0.0)\n",
            "Requirement already satisfied: langchain-community in /usr/local/lib/python3.10/dist-packages (0.3.1)\n",
            "Requirement already satisfied: PyYAML>=5.3 in /usr/local/lib/python3.10/dist-packages (from langchain-community) (6.0.2)\n",
            "Requirement already satisfied: SQLAlchemy<3,>=1.4 in /usr/local/lib/python3.10/dist-packages (from langchain-community) (2.0.35)\n",
            "Requirement already satisfied: aiohttp<4.0.0,>=3.8.3 in /usr/local/lib/python3.10/dist-packages (from langchain-community) (3.10.5)\n",
            "Requirement already satisfied: dataclasses-json<0.7,>=0.5.7 in /usr/local/lib/python3.10/dist-packages (from langchain-community) (0.6.7)\n",
            "Requirement already satisfied: langchain<0.4.0,>=0.3.1 in /usr/local/lib/python3.10/dist-packages (from langchain-community) (0.3.1)\n",
            "Requirement already satisfied: langchain-core<0.4.0,>=0.3.6 in /usr/local/lib/python3.10/dist-packages (from langchain-community) (0.3.6)\n",
            "Requirement already satisfied: langsmith<0.2.0,>=0.1.125 in /usr/local/lib/python3.10/dist-packages (from langchain-community) (0.1.129)\n",
            "Requirement already satisfied: numpy<2,>=1 in /usr/local/lib/python3.10/dist-packages (from langchain-community) (1.26.4)\n",
            "Requirement already satisfied: pydantic-settings<3.0.0,>=2.4.0 in /usr/local/lib/python3.10/dist-packages (from langchain-community) (2.5.2)\n",
            "Requirement already satisfied: requests<3,>=2 in /usr/local/lib/python3.10/dist-packages (from langchain-community) (2.32.3)\n",
            "Requirement already satisfied: tenacity!=8.4.0,<9.0.0,>=8.1.0 in /usr/local/lib/python3.10/dist-packages (from langchain-community) (8.5.0)\n",
            "Requirement already satisfied: aiohappyeyeballs>=2.3.0 in /usr/local/lib/python3.10/dist-packages (from aiohttp<4.0.0,>=3.8.3->langchain-community) (2.4.0)\n",
            "Requirement already satisfied: aiosignal>=1.1.2 in /usr/local/lib/python3.10/dist-packages (from aiohttp<4.0.0,>=3.8.3->langchain-community) (1.3.1)\n",
            "Requirement already satisfied: attrs>=17.3.0 in /usr/local/lib/python3.10/dist-packages (from aiohttp<4.0.0,>=3.8.3->langchain-community) (24.2.0)\n",
            "Requirement already satisfied: frozenlist>=1.1.1 in /usr/local/lib/python3.10/dist-packages (from aiohttp<4.0.0,>=3.8.3->langchain-community) (1.4.1)\n",
            "Requirement already satisfied: multidict<7.0,>=4.5 in /usr/local/lib/python3.10/dist-packages (from aiohttp<4.0.0,>=3.8.3->langchain-community) (6.1.0)\n",
            "Requirement already satisfied: yarl<2.0,>=1.0 in /usr/local/lib/python3.10/dist-packages (from aiohttp<4.0.0,>=3.8.3->langchain-community) (1.11.1)\n",
            "Requirement already satisfied: async-timeout<5.0,>=4.0 in /usr/local/lib/python3.10/dist-packages (from aiohttp<4.0.0,>=3.8.3->langchain-community) (4.0.3)\n",
            "Requirement already satisfied: marshmallow<4.0.0,>=3.18.0 in /usr/local/lib/python3.10/dist-packages (from dataclasses-json<0.7,>=0.5.7->langchain-community) (3.22.0)\n",
            "Requirement already satisfied: typing-inspect<1,>=0.4.0 in /usr/local/lib/python3.10/dist-packages (from dataclasses-json<0.7,>=0.5.7->langchain-community) (0.9.0)\n",
            "Requirement already satisfied: langchain-text-splitters<0.4.0,>=0.3.0 in /usr/local/lib/python3.10/dist-packages (from langchain<0.4.0,>=0.3.1->langchain-community) (0.3.0)\n",
            "Requirement already satisfied: pydantic<3.0.0,>=2.7.4 in /usr/local/lib/python3.10/dist-packages (from langchain<0.4.0,>=0.3.1->langchain-community) (2.9.2)\n",
            "Requirement already satisfied: jsonpatch<2.0,>=1.33 in /usr/local/lib/python3.10/dist-packages (from langchain-core<0.4.0,>=0.3.6->langchain-community) (1.33)\n",
            "Requirement already satisfied: packaging<25,>=23.2 in /usr/local/lib/python3.10/dist-packages (from langchain-core<0.4.0,>=0.3.6->langchain-community) (24.1)\n",
            "Requirement already satisfied: typing-extensions>=4.7 in /usr/local/lib/python3.10/dist-packages (from langchain-core<0.4.0,>=0.3.6->langchain-community) (4.12.2)\n",
            "Requirement already satisfied: httpx<1,>=0.23.0 in /usr/local/lib/python3.10/dist-packages (from langsmith<0.2.0,>=0.1.125->langchain-community) (0.27.2)\n",
            "Requirement already satisfied: orjson<4.0.0,>=3.9.14 in /usr/local/lib/python3.10/dist-packages (from langsmith<0.2.0,>=0.1.125->langchain-community) (3.10.7)\n",
            "Requirement already satisfied: python-dotenv>=0.21.0 in /usr/local/lib/python3.10/dist-packages (from pydantic-settings<3.0.0,>=2.4.0->langchain-community) (1.0.1)\n",
            "Requirement already satisfied: charset-normalizer<4,>=2 in /usr/local/lib/python3.10/dist-packages (from requests<3,>=2->langchain-community) (3.3.2)\n",
            "Requirement already satisfied: idna<4,>=2.5 in /usr/local/lib/python3.10/dist-packages (from requests<3,>=2->langchain-community) (3.10)\n",
            "Requirement already satisfied: urllib3<3,>=1.21.1 in /usr/local/lib/python3.10/dist-packages (from requests<3,>=2->langchain-community) (2.2.3)\n",
            "Requirement already satisfied: certifi>=2017.4.17 in /usr/local/lib/python3.10/dist-packages (from requests<3,>=2->langchain-community) (2024.8.30)\n",
            "Requirement already satisfied: greenlet!=0.4.17 in /usr/local/lib/python3.10/dist-packages (from SQLAlchemy<3,>=1.4->langchain-community) (3.1.1)\n",
            "Requirement already satisfied: anyio in /usr/local/lib/python3.10/dist-packages (from httpx<1,>=0.23.0->langsmith<0.2.0,>=0.1.125->langchain-community) (3.7.1)\n",
            "Requirement already satisfied: httpcore==1.* in /usr/local/lib/python3.10/dist-packages (from httpx<1,>=0.23.0->langsmith<0.2.0,>=0.1.125->langchain-community) (1.0.5)\n",
            "Requirement already satisfied: sniffio in /usr/local/lib/python3.10/dist-packages (from httpx<1,>=0.23.0->langsmith<0.2.0,>=0.1.125->langchain-community) (1.3.1)\n",
            "Requirement already satisfied: h11<0.15,>=0.13 in /usr/local/lib/python3.10/dist-packages (from httpcore==1.*->httpx<1,>=0.23.0->langsmith<0.2.0,>=0.1.125->langchain-community) (0.14.0)\n",
            "Requirement already satisfied: jsonpointer>=1.9 in /usr/local/lib/python3.10/dist-packages (from jsonpatch<2.0,>=1.33->langchain-core<0.4.0,>=0.3.6->langchain-community) (3.0.0)\n",
            "Requirement already satisfied: annotated-types>=0.6.0 in /usr/local/lib/python3.10/dist-packages (from pydantic<3.0.0,>=2.7.4->langchain<0.4.0,>=0.3.1->langchain-community) (0.7.0)\n",
            "Requirement already satisfied: pydantic-core==2.23.4 in /usr/local/lib/python3.10/dist-packages (from pydantic<3.0.0,>=2.7.4->langchain<0.4.0,>=0.3.1->langchain-community) (2.23.4)\n",
            "Requirement already satisfied: mypy-extensions>=0.3.0 in /usr/local/lib/python3.10/dist-packages (from typing-inspect<1,>=0.4.0->dataclasses-json<0.7,>=0.5.7->langchain-community) (1.0.0)\n",
            "Requirement already satisfied: exceptiongroup in /usr/local/lib/python3.10/dist-packages (from anyio->httpx<1,>=0.23.0->langsmith<0.2.0,>=0.1.125->langchain-community) (1.2.2)\n",
            "/bin/bash: line 1: ollama: command not found\n"
          ]
        }
      ],
      "source": [
        "!pip install langchain langchain-openai faiss-cpu\n",
        "!pip install langchain-community # install langchain-community\n",
        "!ollama run llama3"
      ]
    },
    {
      "cell_type": "code",
      "source": [
        "!curl http://localhost:11434"
      ],
      "metadata": {
        "id": "q7qOTPta7UcL",
        "outputId": "e05ee1da-b013-4689-c223-929420cf36d5",
        "colab": {
          "base_uri": "https://localhost:8080/"
        }
      },
      "execution_count": 11,
      "outputs": [
        {
          "output_type": "stream",
          "name": "stdout",
          "text": [
            "curl: (7) Failed to connect to localhost port 11434 after 0 ms: Connection refused\n"
          ]
        }
      ]
    },
    {
      "cell_type": "markdown",
      "source": [
        "* Importing Necessary Modules"
      ],
      "metadata": {
        "id": "etTGuWRR2jgK"
      }
    },
    {
      "cell_type": "code",
      "source": [
        "from langchain_community.document_loaders import TextLoader # Text loader\n",
        "from langchain.text_splitter import CharacterTextSplitter # Text splitter\n",
        "from langchain_community.embeddings import OllamaEmbeddings # Ollama embeddings\n",
        "from langchain.prompts import ChatPromptTemplate # Chat prompt template\n",
        "from langchain_community.chat_models import ChatOllama # ChatOllma chat model\n",
        "from langchain.schema.runnable import RunnablePassthrough\n",
        "from langchain.schema.output_parser import StrOutputParser # Output parser\n",
        "from langchain_community.vectorstores import FAISS # Vector database\n",
        "import requests"
      ],
      "metadata": {
        "id": "jCp2WmeX1y9R"
      },
      "execution_count": 12,
      "outputs": []
    },
    {
      "cell_type": "markdown",
      "source": [
        "* Downloading and Saving the PDF File"
      ],
      "metadata": {
        "id": "cK9T8Lak2gzh"
      }
    },
    {
      "cell_type": "code",
      "source": [
        "url = \"https://arxiv.org/pdf/2005.11401\"\n",
        "res = requests.get(url)\n",
        "with open(\"2005.11401.pdf\", \"wb\") as f:\n",
        "    f.write(res.content)"
      ],
      "metadata": {
        "id": "7H2lyTPW1y6J"
      },
      "execution_count": 13,
      "outputs": []
    },
    {
      "cell_type": "markdown",
      "source": [
        "* Loading the Document"
      ],
      "metadata": {
        "id": "Mhbu6imS2d6s"
      }
    },
    {
      "cell_type": "code",
      "source": [
        "loader = TextLoader('2005.11401.pdf', encoding='latin-1')\n",
        "documents = loader.load()"
      ],
      "metadata": {
        "id": "jwXZD5bZ1y3y"
      },
      "execution_count": 14,
      "outputs": []
    },
    {
      "cell_type": "markdown",
      "source": [
        "* Splitting the Document into Chunks"
      ],
      "metadata": {
        "id": "BzduTYjz2a7S"
      }
    },
    {
      "cell_type": "code",
      "source": [
        "text_splitter = CharacterTextSplitter(chunk_size=10000, chunk_overlap=100)\n",
        "chunks = text_splitter.split_documents(documents)"
      ],
      "metadata": {
        "id": "PF0DfYEK1y1W",
        "outputId": "a68fa780-dcb6-453f-8ac1-6f94eb7f331e",
        "colab": {
          "base_uri": "https://localhost:8080/"
        }
      },
      "execution_count": 15,
      "outputs": [
        {
          "output_type": "stream",
          "name": "stderr",
          "text": [
            "WARNING:langchain_text_splitters.base:Created a chunk of size 16223, which is longer than the specified 10000\n",
            "WARNING:langchain_text_splitters.base:Created a chunk of size 17241, which is longer than the specified 10000\n",
            "WARNING:langchain_text_splitters.base:Created a chunk of size 17780, which is longer than the specified 10000\n",
            "WARNING:langchain_text_splitters.base:Created a chunk of size 47390, which is longer than the specified 10000\n",
            "WARNING:langchain_text_splitters.base:Created a chunk of size 67627, which is longer than the specified 10000\n",
            "WARNING:langchain_text_splitters.base:Created a chunk of size 80064, which is longer than the specified 10000\n",
            "WARNING:langchain_text_splitters.base:Created a chunk of size 16852, which is longer than the specified 10000\n",
            "WARNING:langchain_text_splitters.base:Created a chunk of size 16024, which is longer than the specified 10000\n",
            "WARNING:langchain_text_splitters.base:Created a chunk of size 16655, which is longer than the specified 10000\n",
            "WARNING:langchain_text_splitters.base:Created a chunk of size 37539, which is longer than the specified 10000\n",
            "WARNING:langchain_text_splitters.base:Created a chunk of size 12308, which is longer than the specified 10000\n",
            "WARNING:langchain_text_splitters.base:Created a chunk of size 10104, which is longer than the specified 10000\n",
            "WARNING:langchain_text_splitters.base:Created a chunk of size 44926, which is longer than the specified 10000\n",
            "WARNING:langchain_text_splitters.base:Created a chunk of size 42002, which is longer than the specified 10000\n",
            "WARNING:langchain_text_splitters.base:Created a chunk of size 46613, which is longer than the specified 10000\n",
            "WARNING:langchain_text_splitters.base:Created a chunk of size 45829, which is longer than the specified 10000\n",
            "WARNING:langchain_text_splitters.base:Created a chunk of size 12567, which is longer than the specified 10000\n"
          ]
        }
      ]
    },
    {
      "cell_type": "markdown",
      "source": [
        "* Creating Embeddings and Storing in Vector Database"
      ],
      "metadata": {
        "id": "qS6UpU9J2VT0"
      }
    },
    {
      "cell_type": "code",
      "source": [
        "vectorstore = FAISS.from_documents(\n",
        "    documents=chunks,\n",
        "    embedding=OllamaEmbeddings(model=\"llama3\", base_url=\"http://localhost:8080\")\n",
        ")"
      ],
      "metadata": {
        "id": "-El3KEg51yyw",
        "outputId": "768a7d60-2e62-43c5-b774-2439a89aef90",
        "colab": {
          "base_uri": "https://localhost:8080/",
          "height": 1000
        }
      },
      "execution_count": 18,
      "outputs": [
        {
          "output_type": "error",
          "ename": "ValueError",
          "evalue": "Error raised by inference API HTTP code: 404, <!DOCTYPE HTML>\n<html>\n\n<head>\n    <meta charset=\"utf-8\">\n\n    <title>Jupyter Notebook</title>\n    <link id=\"favicon\" rel=\"shortcut icon\" type=\"image/x-icon\" href=\"/static/base/images/favicon.ico?v=50afa725b5de8b00030139d09b38620224d4e7dba47c07ef0e86d4643f30c9bfe6bb7e1a4a1c561aa32834480909a4b6fe7cd1e17f7159330b6b5914bf45a880\">\n    <meta http-equiv=\"X-UA-Compatible\" content=\"IE=edge\" />\n    <link rel=\"stylesheet\" href=\"/static/components/jquery-ui/dist/themes/smoothness/jquery-ui.min.css?v=aeef962be7038761e5174f91e2da776c640f789e9802621178606b759506b273d9a97f189a9262b19ac5b511f70a662d8c5e2bf2fb258ae11c3c2ee1e07c6abd\" type=\"text/css\" />\n    <link rel=\"stylesheet\" href=\"/static/components/jquery-typeahead/dist/jquery.typeahead.min.css?v=5edf53bf6bb9c3b1ddafd8594825a7e2ed621f19423e569c985162742f63911c09eba2c529f8fb47aebf27fafdfe287d563347f58c1126b278189a18871b6a9a\" type=\"text/css\" />\n    <meta name=\"viewport\" content=\"width=device-width, initial-scale=1.0\">\n    \n    \n\n    <link rel=\"stylesheet\" href=\"/static/style/style.min.css?v=e1ab1c38b672063a6541baf468c83345cd0f509729783ec9b7ccb64073004f5f056110c82c28aefbf3dbf32e0e040f05b8f0420bc411b669ed3d4f07511812ca\" type=\"text/css\"/>\n    \n<style type=\"text/css\">\n/* disable initial hide */\ndiv#header, div#site {\n    display: block;\n}\n</style>\n\n    <link rel=\"stylesheet\" href=\"/custom/custom.css\" type=\"text/css\" />\n    <script src=\"/static/components/es6-promise/promise.min.js?v=bea335d74136a63ae1b5130f5ac9a50c6256a5f435e6e09fef599491a84d834a8b0f011ca3eaaca3b4ab6a2da2d3e1191567a2f171e60da1d10e5b9d52f84184\" type=\"text/javascript\" charset=\"utf-8\"></script>\n    <script src=\"/static/components/react/react.production.min.js?v=9a0aaf84a316c8bedd6c2ff7d5b5e0a13f8f84ec02442346cba0b842c6c81a6bf6176e64f3675c2ebf357cb5bb048e0b527bd39377c95681d22468da3d5de735\" type=\"text/javascript\"></script>\n    <script src=\"/static/components/react/react-dom.production.min.js?v=6fc58c1c4736868ff84f57bd8b85f2bdb985993a9392718f3b4af4bfa10fb4efba2b4ddd68644bd2a8daf0619a3844944c9c43f8528364a1aa6fc01ec1b8ae84\" type=\"text/javascript\"></script>\n    <script src=\"/static/components/create-react-class/index.js?v=894ad57246e682b4cfbe7cd5e408dcd6b38d06af4de4f3425991e2676fdc2ef1732cbd19903104198878ae77de12a1996de3e7da3a467fb226bdda8f4618faec\" type=\"text/javascript\"></script>\n    <script src=\"/static/components/requirejs/require.js?v=d37b48bb2137faa0ab98157e240c084dd5b1b5e74911723aa1d1f04c928c2a03dedf922d049e4815f7e5a369faa2e6b6a1000aae958b7953b5cc60411154f593\" type=\"text/javascript\" charset=\"utf-8\"></script>\n    <script>\n      require.config({\n          \n          urlArgs: \"v=20240929083009\",\n          \n          baseUrl: '/static/',\n          paths: {\n            'auth/js/main': 'auth/js/main.min',\n            custom : '/custom',\n            nbextensions : '/nbextensions',\n            kernelspecs : '/kernelspecs',\n            underscore : 'components/underscore/underscore-min',\n            backbone : 'components/backbone/backbone-min',\n            jed: 'components/jed/jed',\n            jquery: 'components/jquery/jquery.min',\n            json: 'components/requirejs-plugins/src/json',\n            text: 'components/requirejs-text/text',\n            bootstrap: 'components/bootstrap/dist/js/bootstrap.min',\n            bootstraptour: 'components/bootstrap-tour/build/js/bootstrap-tour.min',\n            'jquery-ui': 'components/jquery-ui/dist/jquery-ui.min',\n            moment: 'components/moment/min/moment-with-locales',\n            codemirror: 'components/codemirror',\n            termjs: 'components/xterm.js/xterm',\n            typeahead: 'components/jquery-typeahead/dist/jquery.typeahead.min',\n          },\n          map: { // for backward compatibility\n              \"*\": {\n                  \"jqueryui\": \"jquery-ui\",\n              }\n          },\n          shim: {\n            typeahead: {\n              deps: [\"jquery\"],\n              exports: \"typeahead\"\n            },\n            underscore: {\n              exports: '_'\n            },\n            backbone: {\n              deps: [\"underscore\", \"jquery\"],\n              exports: \"Backbone\"\n            },\n            bootstrap: {\n              deps: [\"jquery\"],\n              exports: \"bootstrap\"\n            },\n            bootstraptour: {\n              deps: [\"bootstrap\"],\n              exports: \"Tour\"\n            },\n            \"jquery-ui\": {\n              deps: [\"jquery\"],\n              exports: \"$\"\n            }\n          },\n          waitSeconds: 30,\n      });\n\n      require.config({\n          map: {\n              '*':{\n                'contents': 'services/contents',\n              }\n          }\n      });\n\n      // error-catching custom.js shim.\n      define(\"custom\", function (require, exports, module) {\n          try {\n              var custom = require('custom/custom');\n              console.debug('loaded custom.js');\n              return custom;\n          } catch (e) {\n              console.error(\"error loading custom.js\", e);\n              return {};\n          }\n      })\n\n      // error-catching custom-preload.js shim.\n      define(\"custom-preload\", function (require, exports, module) {\n          try {\n              var custom = require('custom/custom-preload');\n              console.debug('loaded custom-preload.js');\n              return custom;\n          } catch (e) {\n              console.error(\"error loading custom-preload.js\", e);\n              return {};\n          }\n      })\n\n    document.nbjs_translations = {\"domain\": \"nbjs\", \"locale_data\": {\"nbjs\": {\"\": {\"domain\": \"nbjs\"}}}};\n    document.documentElement.lang = navigator.language.toLowerCase();\n    </script>\n\n    \n    \n\n</head>\n\n<body class=\"\"\n \n  \n \ndir=\"ltr\">\n\n<noscript>\n    <div id='noscript'>\n      Jupyter Notebook requires JavaScript.<br>\n      Please enable it to proceed. \n  </div>\n</noscript>\n\n<div id=\"header\" role=\"navigation\" aria-label=\"Top Menu\">\n  <div  id=\"newsId\" style=\"display: none\">\n    \n    <div class=\"alert alert-info\" role=\"alert\">\n      <div style=\"display: flex\">\n        <div>\n          <span class=\"label label-warning\">UPDATE</span>\n          Read <a href=\"https://jupyter-notebook.readthedocs.io/en/latest/migrate_to_notebook7.html\" style=\"text-decoration: underline;\" target=\"_blank\">the migration plan</a> to Notebook 7 to learn about the new features and the actions to take if you are using extensions\n          -\n          Please note that updating to Notebook 7 might break some of your extensions.\n        </div>\n        <div style=\"margin-left: auto;\">\n          <a href=\"\" onclick=\"alert('This message will not be shown anymore.'); return false;\">\n            <button type=\"button\" class=\"btn btn-default btn-xs\" id=\"dontShowId\">\n              Don't show anymore\n            </button>\n          </a>\n        </div>\n      </div>\n    </div>\n    \n  </div>\n  <div id=\"header-container\" class=\"container\">\n  <div id=\"ipython_notebook\" class=\"nav navbar-brand\"><a href=\"/tree\" title='dashboard'>\n      <img src='/static/base/images/logo.png?v=a2a176ee3cee251ffddf5fa21fe8e43727a9e5f87a06f9c91ad7b776d9e9d3d5e0159c16cc188a3965e00375fb4bc336c16067c688f5040c0c2d4bfdb852a9e4' alt='Jupyter Notebook'/>\n  </a></div>\n\n  \n  \n  \n  \n  \n  \n\n\n  \n  \n  </div>\n  <div class=\"header-bar\"></div>\n\n  \n  \n</div>\n\n<div id=\"site\">\n\n\n<div class=\"error\">\n    \n    <h1>404 : Not Found</h1>\n    \n    \n<p>You are requesting a page that does not exist!</p>\n\n</div>\n\n\n</div>\n\n\n\n\n\n\n\n<script type='text/javascript'>\nrequire(['jquery'], function($) {\n  // scroll long tracebacks to the bottom\n  var tb = $(\".traceback\")[0];\n  tb.scrollTop = tb.scrollHeight;\n});\n</script>\n\n\n<script type='text/javascript'>\n  function _remove_token_from_url() {\n    if (window.location.search.length <= 1) {\n      return;\n    }\n    var search_parameters = window.location.search.slice(1).split('&');\n    for (var i = 0; i < search_parameters.length; i++) {\n      if (search_parameters[i].split('=')[0] === 'token') {\n        // remote token from search parameters\n        search_parameters.splice(i, 1);\n        var new_search = '';\n        if (search_parameters.length) {\n          new_search = '?' + search_parameters.join('&');\n        }\n        var new_url = window.location.origin + \n                      window.location.pathname + \n                      new_search + \n                      window.location.hash;\n        window.history.replaceState({}, \"\", new_url);\n        return;\n      }\n    }\n  }\n  _remove_token_from_url();\n  sys_info = {\"notebook_version\": \"6.5.5\", \"notebook_path\": \"/usr/local/lib/python3.10/dist-packages/notebook\", \"commit_source\": \"\", \"commit_hash\": \"\", \"sys_version\": \"3.10.12 (main, Sep 11 2024, 15:47:36) [GCC 11.4.0]\", \"sys_executable\": \"/usr/bin/python3\", \"sys_platform\": \"linux\", \"platform\": \"Linux-6.1.85+-x86_64-with-glibc2.35\", \"os_name\": \"posix\", \"default_encoding\": \"utf-8\"};\n  document.addEventListener('DOMContentLoaded', function () {\n    const newsId = document.querySelector('#newsId');\n    const dontShowId = document.querySelector('#dontShowId');\n    const showNotebookNews = localStorage.getItem('showNotebookNews');\n    dontShowId.addEventListener('click', () => {\n      localStorage.setItem('showNotebookNews', false);\n      newsId.style.display = 'none';\n    });\n    if (!showNotebookNews) newsId.style.display = 'inline';\n  });\n</script>\n</body>\n\n</html>",
          "traceback": [
            "\u001b[0;31m---------------------------------------------------------------------------\u001b[0m",
            "\u001b[0;31mValueError\u001b[0m                                Traceback (most recent call last)",
            "\u001b[0;32m<ipython-input-18-e3b02482cf8f>\u001b[0m in \u001b[0;36m<cell line: 1>\u001b[0;34m()\u001b[0m\n\u001b[0;32m----> 1\u001b[0;31m vectorstore = FAISS.from_documents(\n\u001b[0m\u001b[1;32m      2\u001b[0m     \u001b[0mdocuments\u001b[0m\u001b[0;34m=\u001b[0m\u001b[0mchunks\u001b[0m\u001b[0;34m,\u001b[0m\u001b[0;34m\u001b[0m\u001b[0;34m\u001b[0m\u001b[0m\n\u001b[1;32m      3\u001b[0m     \u001b[0membedding\u001b[0m\u001b[0;34m=\u001b[0m\u001b[0mOllamaEmbeddings\u001b[0m\u001b[0;34m(\u001b[0m\u001b[0mmodel\u001b[0m\u001b[0;34m=\u001b[0m\u001b[0;34m\"llama3\"\u001b[0m\u001b[0;34m,\u001b[0m \u001b[0mbase_url\u001b[0m\u001b[0;34m=\u001b[0m\u001b[0;34m\"http://localhost:8080\"\u001b[0m\u001b[0;34m)\u001b[0m\u001b[0;34m\u001b[0m\u001b[0;34m\u001b[0m\u001b[0m\n\u001b[1;32m      4\u001b[0m )\n",
            "\u001b[0;32m/usr/local/lib/python3.10/dist-packages/langchain_core/vectorstores/base.py\u001b[0m in \u001b[0;36mfrom_documents\u001b[0;34m(cls, documents, embedding, **kwargs)\u001b[0m\n\u001b[1;32m    828\u001b[0m         \u001b[0mtexts\u001b[0m \u001b[0;34m=\u001b[0m \u001b[0;34m[\u001b[0m\u001b[0md\u001b[0m\u001b[0;34m.\u001b[0m\u001b[0mpage_content\u001b[0m \u001b[0;32mfor\u001b[0m \u001b[0md\u001b[0m \u001b[0;32min\u001b[0m \u001b[0mdocuments\u001b[0m\u001b[0;34m]\u001b[0m\u001b[0;34m\u001b[0m\u001b[0;34m\u001b[0m\u001b[0m\n\u001b[1;32m    829\u001b[0m         \u001b[0mmetadatas\u001b[0m \u001b[0;34m=\u001b[0m \u001b[0;34m[\u001b[0m\u001b[0md\u001b[0m\u001b[0;34m.\u001b[0m\u001b[0mmetadata\u001b[0m \u001b[0;32mfor\u001b[0m \u001b[0md\u001b[0m \u001b[0;32min\u001b[0m \u001b[0mdocuments\u001b[0m\u001b[0;34m]\u001b[0m\u001b[0;34m\u001b[0m\u001b[0;34m\u001b[0m\u001b[0m\n\u001b[0;32m--> 830\u001b[0;31m         \u001b[0;32mreturn\u001b[0m \u001b[0mcls\u001b[0m\u001b[0;34m.\u001b[0m\u001b[0mfrom_texts\u001b[0m\u001b[0;34m(\u001b[0m\u001b[0mtexts\u001b[0m\u001b[0;34m,\u001b[0m \u001b[0membedding\u001b[0m\u001b[0;34m,\u001b[0m \u001b[0mmetadatas\u001b[0m\u001b[0;34m=\u001b[0m\u001b[0mmetadatas\u001b[0m\u001b[0;34m,\u001b[0m \u001b[0;34m**\u001b[0m\u001b[0mkwargs\u001b[0m\u001b[0;34m)\u001b[0m\u001b[0;34m\u001b[0m\u001b[0;34m\u001b[0m\u001b[0m\n\u001b[0m\u001b[1;32m    831\u001b[0m \u001b[0;34m\u001b[0m\u001b[0m\n\u001b[1;32m    832\u001b[0m     \u001b[0;34m@\u001b[0m\u001b[0mclassmethod\u001b[0m\u001b[0;34m\u001b[0m\u001b[0;34m\u001b[0m\u001b[0m\n",
            "\u001b[0;32m/usr/local/lib/python3.10/dist-packages/langchain_community/vectorstores/faiss.py\u001b[0m in \u001b[0;36mfrom_texts\u001b[0;34m(cls, texts, embedding, metadatas, ids, **kwargs)\u001b[0m\n\u001b[1;32m   1039\u001b[0m                 \u001b[0mfaiss\u001b[0m \u001b[0;34m=\u001b[0m \u001b[0mFAISS\u001b[0m\u001b[0;34m.\u001b[0m\u001b[0mfrom_texts\u001b[0m\u001b[0;34m(\u001b[0m\u001b[0mtexts\u001b[0m\u001b[0;34m,\u001b[0m \u001b[0membeddings\u001b[0m\u001b[0;34m)\u001b[0m\u001b[0;34m\u001b[0m\u001b[0;34m\u001b[0m\u001b[0m\n\u001b[1;32m   1040\u001b[0m         \"\"\"\n\u001b[0;32m-> 1041\u001b[0;31m         \u001b[0membeddings\u001b[0m \u001b[0;34m=\u001b[0m \u001b[0membedding\u001b[0m\u001b[0;34m.\u001b[0m\u001b[0membed_documents\u001b[0m\u001b[0;34m(\u001b[0m\u001b[0mtexts\u001b[0m\u001b[0;34m)\u001b[0m\u001b[0;34m\u001b[0m\u001b[0;34m\u001b[0m\u001b[0m\n\u001b[0m\u001b[1;32m   1042\u001b[0m         return cls.__from(\n\u001b[1;32m   1043\u001b[0m             \u001b[0mtexts\u001b[0m\u001b[0;34m,\u001b[0m\u001b[0;34m\u001b[0m\u001b[0;34m\u001b[0m\u001b[0m\n",
            "\u001b[0;32m/usr/local/lib/python3.10/dist-packages/langchain_community/embeddings/ollama.py\u001b[0m in \u001b[0;36membed_documents\u001b[0;34m(self, texts)\u001b[0m\n\u001b[1;32m    206\u001b[0m         \"\"\"\n\u001b[1;32m    207\u001b[0m         \u001b[0minstruction_pairs\u001b[0m \u001b[0;34m=\u001b[0m \u001b[0;34m[\u001b[0m\u001b[0;34mf\"{self.embed_instruction}{text}\"\u001b[0m \u001b[0;32mfor\u001b[0m \u001b[0mtext\u001b[0m \u001b[0;32min\u001b[0m \u001b[0mtexts\u001b[0m\u001b[0;34m]\u001b[0m\u001b[0;34m\u001b[0m\u001b[0;34m\u001b[0m\u001b[0m\n\u001b[0;32m--> 208\u001b[0;31m         \u001b[0membeddings\u001b[0m \u001b[0;34m=\u001b[0m \u001b[0mself\u001b[0m\u001b[0;34m.\u001b[0m\u001b[0m_embed\u001b[0m\u001b[0;34m(\u001b[0m\u001b[0minstruction_pairs\u001b[0m\u001b[0;34m)\u001b[0m\u001b[0;34m\u001b[0m\u001b[0;34m\u001b[0m\u001b[0m\n\u001b[0m\u001b[1;32m    209\u001b[0m         \u001b[0;32mreturn\u001b[0m \u001b[0membeddings\u001b[0m\u001b[0;34m\u001b[0m\u001b[0;34m\u001b[0m\u001b[0m\n\u001b[1;32m    210\u001b[0m \u001b[0;34m\u001b[0m\u001b[0m\n",
            "\u001b[0;32m/usr/local/lib/python3.10/dist-packages/langchain_community/embeddings/ollama.py\u001b[0m in \u001b[0;36m_embed\u001b[0;34m(self, input)\u001b[0m\n\u001b[1;32m    194\u001b[0m         \u001b[0;32melse\u001b[0m\u001b[0;34m:\u001b[0m\u001b[0;34m\u001b[0m\u001b[0;34m\u001b[0m\u001b[0m\n\u001b[1;32m    195\u001b[0m             \u001b[0miter_\u001b[0m \u001b[0;34m=\u001b[0m \u001b[0minput\u001b[0m\u001b[0;34m\u001b[0m\u001b[0;34m\u001b[0m\u001b[0m\n\u001b[0;32m--> 196\u001b[0;31m         \u001b[0;32mreturn\u001b[0m \u001b[0;34m[\u001b[0m\u001b[0mself\u001b[0m\u001b[0;34m.\u001b[0m\u001b[0m_process_emb_response\u001b[0m\u001b[0;34m(\u001b[0m\u001b[0mprompt\u001b[0m\u001b[0;34m)\u001b[0m \u001b[0;32mfor\u001b[0m \u001b[0mprompt\u001b[0m \u001b[0;32min\u001b[0m \u001b[0miter_\u001b[0m\u001b[0;34m]\u001b[0m\u001b[0;34m\u001b[0m\u001b[0;34m\u001b[0m\u001b[0m\n\u001b[0m\u001b[1;32m    197\u001b[0m \u001b[0;34m\u001b[0m\u001b[0m\n\u001b[1;32m    198\u001b[0m     \u001b[0;32mdef\u001b[0m \u001b[0membed_documents\u001b[0m\u001b[0;34m(\u001b[0m\u001b[0mself\u001b[0m\u001b[0;34m,\u001b[0m \u001b[0mtexts\u001b[0m\u001b[0;34m:\u001b[0m \u001b[0mList\u001b[0m\u001b[0;34m[\u001b[0m\u001b[0mstr\u001b[0m\u001b[0;34m]\u001b[0m\u001b[0;34m)\u001b[0m \u001b[0;34m->\u001b[0m \u001b[0mList\u001b[0m\u001b[0;34m[\u001b[0m\u001b[0mList\u001b[0m\u001b[0;34m[\u001b[0m\u001b[0mfloat\u001b[0m\u001b[0;34m]\u001b[0m\u001b[0;34m]\u001b[0m\u001b[0;34m:\u001b[0m\u001b[0;34m\u001b[0m\u001b[0;34m\u001b[0m\u001b[0m\n",
            "\u001b[0;32m/usr/local/lib/python3.10/dist-packages/langchain_community/embeddings/ollama.py\u001b[0m in \u001b[0;36m<listcomp>\u001b[0;34m(.0)\u001b[0m\n\u001b[1;32m    194\u001b[0m         \u001b[0;32melse\u001b[0m\u001b[0;34m:\u001b[0m\u001b[0;34m\u001b[0m\u001b[0;34m\u001b[0m\u001b[0m\n\u001b[1;32m    195\u001b[0m             \u001b[0miter_\u001b[0m \u001b[0;34m=\u001b[0m \u001b[0minput\u001b[0m\u001b[0;34m\u001b[0m\u001b[0;34m\u001b[0m\u001b[0m\n\u001b[0;32m--> 196\u001b[0;31m         \u001b[0;32mreturn\u001b[0m \u001b[0;34m[\u001b[0m\u001b[0mself\u001b[0m\u001b[0;34m.\u001b[0m\u001b[0m_process_emb_response\u001b[0m\u001b[0;34m(\u001b[0m\u001b[0mprompt\u001b[0m\u001b[0;34m)\u001b[0m \u001b[0;32mfor\u001b[0m \u001b[0mprompt\u001b[0m \u001b[0;32min\u001b[0m \u001b[0miter_\u001b[0m\u001b[0;34m]\u001b[0m\u001b[0;34m\u001b[0m\u001b[0;34m\u001b[0m\u001b[0m\n\u001b[0m\u001b[1;32m    197\u001b[0m \u001b[0;34m\u001b[0m\u001b[0m\n\u001b[1;32m    198\u001b[0m     \u001b[0;32mdef\u001b[0m \u001b[0membed_documents\u001b[0m\u001b[0;34m(\u001b[0m\u001b[0mself\u001b[0m\u001b[0;34m,\u001b[0m \u001b[0mtexts\u001b[0m\u001b[0;34m:\u001b[0m \u001b[0mList\u001b[0m\u001b[0;34m[\u001b[0m\u001b[0mstr\u001b[0m\u001b[0;34m]\u001b[0m\u001b[0;34m)\u001b[0m \u001b[0;34m->\u001b[0m \u001b[0mList\u001b[0m\u001b[0;34m[\u001b[0m\u001b[0mList\u001b[0m\u001b[0;34m[\u001b[0m\u001b[0mfloat\u001b[0m\u001b[0;34m]\u001b[0m\u001b[0;34m]\u001b[0m\u001b[0;34m:\u001b[0m\u001b[0;34m\u001b[0m\u001b[0;34m\u001b[0m\u001b[0m\n",
            "\u001b[0;32m/usr/local/lib/python3.10/dist-packages/langchain_community/embeddings/ollama.py\u001b[0m in \u001b[0;36m_process_emb_response\u001b[0;34m(self, input)\u001b[0m\n\u001b[1;32m    168\u001b[0m \u001b[0;34m\u001b[0m\u001b[0m\n\u001b[1;32m    169\u001b[0m         \u001b[0;32mif\u001b[0m \u001b[0mres\u001b[0m\u001b[0;34m.\u001b[0m\u001b[0mstatus_code\u001b[0m \u001b[0;34m!=\u001b[0m \u001b[0;36m200\u001b[0m\u001b[0;34m:\u001b[0m\u001b[0;34m\u001b[0m\u001b[0;34m\u001b[0m\u001b[0m\n\u001b[0;32m--> 170\u001b[0;31m             raise ValueError(\n\u001b[0m\u001b[1;32m    171\u001b[0m                 \u001b[0;34m\"Error raised by inference API HTTP code: %s, %s\"\u001b[0m\u001b[0;34m\u001b[0m\u001b[0;34m\u001b[0m\u001b[0m\n\u001b[1;32m    172\u001b[0m                 \u001b[0;34m%\u001b[0m \u001b[0;34m(\u001b[0m\u001b[0mres\u001b[0m\u001b[0;34m.\u001b[0m\u001b[0mstatus_code\u001b[0m\u001b[0;34m,\u001b[0m \u001b[0mres\u001b[0m\u001b[0;34m.\u001b[0m\u001b[0mtext\u001b[0m\u001b[0;34m)\u001b[0m\u001b[0;34m\u001b[0m\u001b[0;34m\u001b[0m\u001b[0m\n",
            "\u001b[0;31mValueError\u001b[0m: Error raised by inference API HTTP code: 404, <!DOCTYPE HTML>\n<html>\n\n<head>\n    <meta charset=\"utf-8\">\n\n    <title>Jupyter Notebook</title>\n    <link id=\"favicon\" rel=\"shortcut icon\" type=\"image/x-icon\" href=\"/static/base/images/favicon.ico?v=50afa725b5de8b00030139d09b38620224d4e7dba47c07ef0e86d4643f30c9bfe6bb7e1a4a1c561aa32834480909a4b6fe7cd1e17f7159330b6b5914bf45a880\">\n    <meta http-equiv=\"X-UA-Compatible\" content=\"IE=edge\" />\n    <link rel=\"stylesheet\" href=\"/static/components/jquery-ui/dist/themes/smoothness/jquery-ui.min.css?v=aeef962be7038761e5174f91e2da776c640f789e9802621178606b759506b273d9a97f189a9262b19ac5b511f70a662d8c5e2bf2fb258ae11c3c2ee1e07c6abd\" type=\"text/css\" />\n    <link rel=\"stylesheet\" href=\"/static/components/jquery-typeahead/dist/jquery.typeahead.min.css?v=5edf53bf6bb9c3b1ddafd8594825a7e2ed621f19423e569c985162742f63911c09eba2c529f8fb47aebf27fafdfe287d563347f58c1126b278189a18871b6a9a\" type=\"text/css\" />\n    <meta name=\"viewport\" content=\"width=device-width, initial-scale=1.0\">\n    \n    \n\n    <link rel=\"stylesheet\" href=\"/static/style/style.min.css?v=e1ab1c38b672063a6541baf468c83345cd0f509729783ec9b7ccb64073004f5f056110c82c28aefbf3dbf32e0e040f05b8f0420bc411b669ed3d4f07511812ca\" type=\"text/css\"/>\n    \n<style type=\"text/css\">\n/* disable initial hide */\ndiv#header, div#site {\n    display: block;\n}\n</style>\n\n    <link rel=\"stylesheet\" href=\"/custom/custom.css\" type=\"text/css\" />\n    <script src=\"/static/components/es6-promise/promise.min.js?v=bea335d74136a63ae1b5130f5ac9a50c6256a5f435e6e09fef599491a84d834a8b0f011ca3eaaca3b4ab6a2da2d3e1191567a2f171e60da1d10e5b9d52f84184\" type=\"text/javascript\" charset=\"utf-8\"></script>\n    <script src=\"/static/components/react/react.production.min.js?v=9a0aaf84a316c8bedd6c2ff7d5b5e0a13f8f84ec02442346cba0b842c6c81a6bf6176e64f3675c2ebf357cb5bb048e0b527bd39377c95681d22468da3d5de735\" type=\"text/javascript\"></script>\n    <script src=\"/static/components/react/react-dom.production.min.js?v=6fc58c1c4736868ff84f57bd8b85f2bdb985993a9392718f3b4af4bfa10fb4efba2b4ddd68644bd2a8daf0619a3844944c9c43f8528364a1aa6fc01ec1b8ae84\" type=\"text/javascript\"></script>\n    <script src=\"/static/components/create-react-class/index.js?v=894ad57246e682b4cfbe7cd5e408dcd6b38d06af4de4f3425991e2676fdc2ef1732cbd19903104198878ae77de12a1996de3e7da3a467fb226bdda8f4618faec\" type=\"text/javascript\"></script>\n    <script src=\"/static/components/requirejs/require.js?v=d37b48bb2137faa0ab98157e240c084dd5b1b5e74911723aa1d1f04c928c2a03dedf922d049e4815f7e5a369faa2e6b6a1000aae958b7953b5cc60411154f593\" type=\"text/javascript\" charset=\"utf-8\"></script>\n    <script>\n      require.config({\n          \n          urlArgs: \"v=20240929083009\",\n          \n          baseUrl: '/static/',\n          paths: {\n            'auth/js/main': 'auth/js/main.min',\n            custom : '/custom',\n            nbextensions : '/nbextensions',\n            kernelspecs : '/kernelspecs',\n            underscore : 'components/underscore/underscore-min',\n            backbone : 'components/backbone/backbone-min',\n            jed: 'components/jed/jed',\n            jquery: 'components/jquery/jquery.min',\n            json: 'components/requirejs-plugins/src/json',\n            text: 'components/requirejs-text/text',\n            bootstrap: 'components/bootstrap/dist/js/bootstrap.min',\n            bootstraptour: 'components/bootstrap-tour/build/js/bootstrap-tour.min',\n            'jquery-ui': 'components/jquery-ui/dist/jquery-ui.min',\n            moment: 'components/moment/min/moment-with-locales',\n            codemirror: 'components/codemirror',\n            termjs: 'components/xterm.js/xterm',\n            typeahead: 'components/jquery-typeahead/dist/jquery.typeahead.min',\n          },\n          map: { // for backward compatibility\n              \"*\": {\n                  \"jqueryui\": \"jquery-ui\",\n              }\n          },\n          shim: {\n            typeahead: {\n              deps: [\"jquery\"],\n              exports: \"typeahead\"\n            },\n            underscore: {\n              exports: '_'\n            },\n            backbone: {\n              deps: [\"underscore\", \"jquery\"],\n              exports: \"Backbone\"\n            },\n            bootstrap: {\n              deps: [\"jquery\"],\n              exports: \"bootstrap\"\n            },\n            bootstraptour: {\n              deps: [\"bootstrap\"],\n              exports: \"Tour\"\n            },\n            \"jquery-ui\": {\n              deps: [\"jquery\"],\n              exports: \"$\"\n            }\n          },\n          waitSeconds: 30,\n      });\n\n      require.config({\n          map: {\n              '*':{\n                'contents': 'services/contents',\n              }\n          }\n      });\n\n      // error-catching custom.js shim.\n      define(\"custom\", function (require, exports, module) {\n          try {\n              var custom = require('custom/custom');\n              console.debug('loaded custom.js');\n              return custom;\n          } catch (e) {\n              console.error(\"error loading custom.js\", e);\n              return {};\n          }\n      })\n\n      // error-catching custom-preload.js shim.\n      define(\"custom-preload\", function (require, exports, module) {\n          try {\n              var custom = require('custom/custom-preload');\n              console.debug('loaded custom-preload.js');\n              return custom;\n          } catch (e) {\n              console.error(\"error loading custom-preload.js\", e);\n              return {};\n          }\n      })\n\n    document.nbjs_translations = {\"domain\": \"nbjs\", \"locale_data\": {\"nbjs\": {\"\": {\"domain\": \"nbjs\"}}}};\n    document.documentElement.lang = navigator.language.toLowerCase();\n    </script>\n\n    \n    \n\n</head>\n\n<body class=\"\"\n \n  \n \ndir=\"ltr\">\n\n<noscript>\n    <div id='noscript'>\n      Jupyter Notebook requires JavaScript.<br>\n      Please enable it to proceed. \n  </div>\n</noscript>\n\n<div id=\"header\" role=\"navigation\" aria-label=\"Top Menu\">\n  <div  id=\"newsId\" style=\"display: none\">\n    \n    <div class=\"alert alert-info\" role=\"alert\">\n      <div style=\"display: flex\">\n        <div>\n          <span class=\"label label-warning\">UPDATE</span>\n          Read <a href=\"https://jupyter-notebook.readthedocs.io/en/latest/migrate_to_notebook7.html\" style=\"text-decoration: underline;\" target=\"_blank\">the migration plan</a> to Notebook 7 to learn about the new features and the actions to take if you are using extensions\n          -\n          Please note that updating to Notebook 7 might break some of your extensions.\n        </div>\n        <div style=\"margin-left: auto;\">\n          <a href=\"\" onclick=\"alert('This message will not be shown anymore.'); return false;\">\n            <button type=\"button\" class=\"btn btn-default btn-xs\" id=\"dontShowId\">\n              Don't show anymore\n            </button>\n          </a>\n        </div>\n      </div>\n    </div>\n    \n  </div>\n  <div id=\"header-container\" class=\"container\">\n  <div id=\"ipython_notebook\" class=\"nav navbar-brand\"><a href=\"/tree\" title='dashboard'>\n      <img src='/static/base/images/logo.png?v=a2a176ee3cee251ffddf5fa21fe8e43727a9e5f87a06f9c91ad7b776d9e9d3d5e0159c16cc188a3965e00375fb4bc336c16067c688f5040c0c2d4bfdb852a9e4' alt='Jupyter Notebook'/>\n  </a></div>\n\n  \n  \n  \n  \n  \n  \n\n\n  \n  \n  </div>\n  <div class=\"header-bar\"></div>\n\n  \n  \n</div>\n\n<div id=\"site\">\n\n\n<div class=\"error\">\n    \n    <h1>404 : Not Found</h1>\n    \n    \n<p>You are requesting a page that does not exist!</p>\n\n</div>\n\n\n</div>\n\n\n\n\n\n\n\n<script type='text/javascript'>\nrequire(['jquery'], function($) {\n  // scroll long tracebacks to the bottom\n  var tb = $(\".traceback\")[0];\n  tb.scrollTop = tb.scrollHeight;\n});\n</script>\n\n\n<script type='text/javascript'>\n  function _remove_token_from_url() {\n    if (window.location.search.length <= 1) {\n      return;\n    }\n    var search_parameters = window.location.search.slice(1).split('&');\n    for (var i = 0; i < search_parameters.length; i++) {\n      if (search_parameters[i].split('=')[0] === 'token') {\n        // remote token from search parameters\n        search_parameters.splice(i, 1);\n        var new_search = '';\n        if (search_parameters.length) {\n          new_search = '?' + search_parameters.join('&');\n        }\n        var new_url = window.location.origin + \n                      window.location.pathname + \n                      new_search + \n                      window.location.hash;\n        window.history.replaceState({}, \"\", new_url);\n        return;\n      }\n    }\n  }\n  _remove_token_from_url();\n  sys_info = {\"notebook_version\": \"6.5.5\", \"notebook_path\": \"/usr/local/lib/python3.10/dist-packages/notebook\", \"commit_source\": \"\", \"commit_hash\": \"\", \"sys_version\": \"3.10.12 (main, Sep 11 2024, 15:47:36) [GCC 11.4.0]\", \"sys_executable\": \"/usr/bin/python3\", \"sys_platform\": \"linux\", \"platform\": \"Linux-6.1.85+-x86_64-with-glibc2.35\", \"os_name\": \"posix\", \"default_encoding\": \"utf-8\"};\n  document.addEventListener('DOMContentLoaded', function () {\n    const newsId = document.querySelector('#newsId');\n    const dontShowId = document.querySelector('#dontShowId');\n    const showNotebookNews = localStorage.getItem('showNotebookNews');\n    dontShowId.addEventListener('click', () => {\n      localStorage.setItem('showNotebookNews', false);\n      newsId.style.display = 'none';\n    });\n    if (!showNotebookNews) newsId.style.display = 'inline';\n  });\n</script>\n</body>\n\n</html>"
          ]
        }
      ]
    },
    {
      "cell_type": "markdown",
      "source": [
        "* Creating a Retriever"
      ],
      "metadata": {
        "id": "4JcXy0xl2Rix"
      }
    },
    {
      "cell_type": "code",
      "source": [
        "retriever = vectorstore.as_retriever()"
      ],
      "metadata": {
        "id": "87EUllw-1ywE",
        "outputId": "c28f73e2-8cd3-4924-8e5a-ecfc4656d299",
        "colab": {
          "base_uri": "https://localhost:8080/",
          "height": 141
        }
      },
      "execution_count": 19,
      "outputs": [
        {
          "output_type": "error",
          "ename": "NameError",
          "evalue": "name 'vectorstore' is not defined",
          "traceback": [
            "\u001b[0;31m---------------------------------------------------------------------------\u001b[0m",
            "\u001b[0;31mNameError\u001b[0m                                 Traceback (most recent call last)",
            "\u001b[0;32m<ipython-input-19-bdff69987a03>\u001b[0m in \u001b[0;36m<cell line: 1>\u001b[0;34m()\u001b[0m\n\u001b[0;32m----> 1\u001b[0;31m \u001b[0mretriever\u001b[0m \u001b[0;34m=\u001b[0m \u001b[0mvectorstore\u001b[0m\u001b[0;34m.\u001b[0m\u001b[0mas_retriever\u001b[0m\u001b[0;34m(\u001b[0m\u001b[0;34m)\u001b[0m\u001b[0;34m\u001b[0m\u001b[0;34m\u001b[0m\u001b[0m\n\u001b[0m",
            "\u001b[0;31mNameError\u001b[0m: name 'vectorstore' is not defined"
          ]
        }
      ]
    },
    {
      "cell_type": "markdown",
      "source": [
        "* Defining the LLM Prompt Template"
      ],
      "metadata": {
        "id": "kcPiUjW62OFL"
      }
    },
    {
      "cell_type": "code",
      "source": [
        "template = \"\"\"You are an assistant for specific knowledge query tasks.\n",
        "Use the following pieces of retrieved context to answer the question.\n",
        "If you don't know the answer, just say that you don't know.\n",
        "Question: {question}\n",
        "Context: {context}\n",
        "Answer:\n",
        "\"\"\"\n",
        "prompt = ChatPromptTemplate.from_template(template)"
      ],
      "metadata": {
        "id": "V_uRV3Yg1yta"
      },
      "execution_count": null,
      "outputs": []
    },
    {
      "cell_type": "code",
      "source": [
        "llm = ChatOllama(model=\"llama3\", temperature=0.2)"
      ],
      "metadata": {
        "id": "oL_ZIHx_1yq5"
      },
      "execution_count": null,
      "outputs": []
    },
    {
      "cell_type": "markdown",
      "source": [
        "* Combining Components into a RAG Chain"
      ],
      "metadata": {
        "id": "enKhXWCR2I1A"
      }
    },
    {
      "cell_type": "code",
      "source": [
        "rag_chain = (\n",
        "        {\"context\": retriever, \"question\": RunnablePassthrough()}  # context window\n",
        "        | prompt\n",
        "        | llm\n",
        "        | StrOutputParser()\n",
        ")"
      ],
      "metadata": {
        "id": "3fF2qxKL1yoF"
      },
      "execution_count": null,
      "outputs": []
    },
    {
      "cell_type": "markdown",
      "source": [
        "* Querying and Getting Feedback"
      ],
      "metadata": {
        "id": "CA1UT1R02Efr"
      }
    },
    {
      "cell_type": "code",
      "source": [
        "query = \"What did this paper mainly talk about?\"\n",
        "print(rag_chain.invoke(query))"
      ],
      "metadata": {
        "id": "RMDyNAiK1ylH"
      },
      "execution_count": null,
      "outputs": []
    },
    {
      "cell_type": "code",
      "source": [],
      "metadata": {
        "id": "-RoihChM1yiB"
      },
      "execution_count": null,
      "outputs": []
    },
    {
      "cell_type": "code",
      "source": [],
      "metadata": {
        "id": "Y1mcSzwV1yfE"
      },
      "execution_count": null,
      "outputs": []
    },
    {
      "cell_type": "code",
      "source": [],
      "metadata": {
        "id": "FhQQi_fJ1ycK"
      },
      "execution_count": null,
      "outputs": []
    },
    {
      "cell_type": "code",
      "source": [],
      "metadata": {
        "id": "kExnTgbG1yUt"
      },
      "execution_count": null,
      "outputs": []
    }
  ]
}